{
 "cells": [
  {
   "cell_type": "markdown",
   "metadata": {},
   "source": [
    "<center><h1>TP Régression Logistique</h1></center>"
   ]
  },
  {
   "cell_type": "markdown",
   "metadata": {},
   "source": [
    "<center><h1> SD211 </h1></center>"
   ]
  },
  {
   "cell_type": "markdown",
   "metadata": {},
   "source": [
    "Je vous prie de bien vouloir vérifier que les fichiers .py .ipynb et les données sont bien dans le même dossier avant execution."
   ]
  },
  {
   "cell_type": "code",
   "execution_count": 1,
   "metadata": {
    "collapsed": true
   },
   "outputs": [],
   "source": [
    "# Necessary imports\n",
    "import math\n",
    "import numpy as np\n",
    "import matplotlib.pyplot as plt\n",
    "from diabeticRetinopathyUtils import load_diabetic_retinopathy\n",
    "from time import time"
   ]
  },
  {
   "cell_type": "markdown",
   "metadata": {},
   "source": [
    "# 1- Régularisation de Tikhonov "
   ]
  },
  {
   "cell_type": "markdown",
   "metadata": {},
   "source": [
    "## Question 1.1:"
   ]
  },
  {
   "cell_type": "markdown",
   "metadata": {},
   "source": [
    "On a :\n",
    "$$ f_{1} (w_{0},w) =\\dfrac {1} {n}\\sum _{i=1}^{n}\\log \\left( 1+e^{-y_{i}\\left( {x_{i}}^{T}w+w_{0}\\right) }\\right) +\\dfrac {\\rho } {2}\\left\\| w\\right\\| _{2}^{2} $$\n",
    "\n",
    "avec: \n",
    "\n",
    "$  ~~~~~~~~ X=\\left( \\begin{matrix} x_{1}^{T}\\\\ \\vdots \\\\ x_{n}^{T}\\end{matrix} \\right) \\in \\mathbb{R} ^{n\\times p } ~,~~~~ W=\\left( \\begin{matrix} w_{1}\\\\ \\vdots \\\\ w_{p}\\end{matrix} \\right) \\in \\mathbb{R} ^{ p \\times 1 } ~,~~~~ Y=\\left( \\begin{matrix} y_{1}\\\\ \\vdots \\\\ y_{n}\\end{matrix} \\right) \\in \\mathbb{R} ^{n \\times 1 } ~,~~~~ w_{0} \\in \\mathbb{R} $"
   ]
  },
  {
   "cell_type": "markdown",
   "metadata": {},
   "source": [
    "* **Gradient de $f_1$:**\n",
    "\n",
    "$$ \\nabla_{w_{0}}f_{1} = \\frac{\\partial f_{1}}{\\partial w_{0}}=\\frac{-1}{n}\\sum_{i=1}^{n}{\\frac{y_{i}}{1+exp(y_{i}(x_{i}^{T}w+w_{0}))}} \n",
    "$$\n",
    "\n",
    "$$ \\nabla_{w}f_{1}= \\frac{\\partial f_{1}}{\\partial w}=\\frac{-1}{n}\\sum_{i=1}^{n}{\\frac{y_{i}}{1+exp(y_{i}(x_{i}^{T}w+w_{0}))}x_{i}}+\\rho w $$\n",
    "\n",
    "\n",
    "donc: \n",
    "\n",
    "$$ \\fbox{$\\nabla f_{1}= \\begin{pmatrix} \n",
    "\\nabla_{w_{0}}f_{1} \\\\ \n",
    "\\nabla_{w}f_{1} \n",
    " \\end{pmatrix} =  \\begin{pmatrix} \n",
    "\\frac{-1}{n}\\sum_{i=1}^{n}{\\frac{y_{i}}{1+exp(y_{i}(x_{i}^{T}w+w_{0}))}}  \\\\ \n",
    "\\frac{-1}{n}\\sum_{i=1}^{n}{\\frac{y_{i}}{1+exp(y_{i}(x_{i}^{T}w+w_{0}))}x_{i}}+\\rho w \n",
    " \\end{pmatrix} $}\\in \\mathbb{R} ^{\\left( p+1\\right) \\times 1 }$$\n",
    "\n",
    "\n",
    "\n",
    "* **Hessienne de $f_1$:**\n",
    "\n",
    "Si on ajoute une colonne de \"1\" au début de la matrice X à l'indice 0, on obtient la matrice $\\tilde{X} = \\left( \\begin{matrix} 1& x_{1}^{T}\\\\ 1& x_{2}^{T}\\\\ \\vdots & \\vdots \\\\ 1& x_{n}^{T}\\end{matrix} \\right)= \\left( \\begin{matrix} \\tilde{x_{1}^{T}}\\\\ \\vdots \\\\ \\tilde{x_{n}^{T}}\\end{matrix} \\right) \\in \\mathbb{R} ^{n\\times \\left( p+1\\right) }$ <br>\n",
    "\n",
    "et si on désigne par   $\\tilde{w} = \\left( \\begin{matrix} w_0\\\\ w\\end{matrix} \\right) \\in \\mathbb{R} ^{ (p+1) \\times 1 } $ ,en calculant la matrice hessienne, on obtient donc:\n",
    "\n",
    "Donc: \n",
    "$$\\fbox{$H =  \\dfrac {1} {n}\\sum _{i=1}^{n}y_{i}^2 \\dfrac{ {e}^{+ y_i\\tilde{x_i}^{T} \\tilde{w}} } { (1+{e}^{+ y_i\\tilde{x_i}^{T} \\tilde{w}})^2} \\tilde{x_{i}} \\tilde{x_{i}}^T + \\rho (I_{p+1} - \\left( \\begin{matrix} 1& 0& \\ldots & & 0\\\\ 0& 0& \\ldots & & 0\\\\ & & \\ddots & & \\vdots \\\\ 0& 0& ..& .& 0\\end{matrix} \\right))$}  \\in \\mathbb{R} ^{\\left( p+1\\right) \\times \\left( p+1\\right) }$$\n",
    "\n",
    "Avec: \n",
    "\n",
    "$$\\tilde{x_{i}} \\tilde{x_{i}}^T= \\left(\\begin{matrix} 1& x_{i,1}& \\ldots & & x_{i,p}\\\\ x_{i,1}& x_{i,1}^2& \\ldots & & .\\\\ & & \\ddots & & \\vdots \\\\ x_{i,p}& .& ..& .& x_{i,p}^2\\end{matrix}\\right) ~~~  \\in \\mathbb{R} ^{(p+1)\\times \\left( p+1\\right) }  ~,~~~~  \\forall i \\in\\left[0,n\\right]  $$  \n",
    "\n",
    "et: \n",
    "\n",
    "$$I_{p+1} = \\left( \\begin{matrix} 1& 0& \\ldots & & 0\\\\ 0& 1& \\ldots & & 0\\\\ & & \\ddots & & \\vdots \\\\ 0& 0& ..& .& 1\\end{matrix} \\right) ~~~  \\in \\mathbb{R} ^{(p+1)\\times \\left( p+1\\right) } $$\n",
    "\n",
    "\n",
    "* **Convexité de $f_1$:**\n",
    "\n",
    "Pour montrer que <b>$f_1$ </b> est <b>convexe</b>, il suffirait de montrer que la matrice hessienne <b>H</b> correspondante est <b>définie positive: </b><br><br>\n",
    "Soit $ v\\in \\mathbb{R} ^{ p+1 }$,$v \\neq 0^{ ~ p+1 }$, calculons $v^{T}Hv$ : <br>\n",
    "$v^{T}Hv = \\dfrac {1} {n}\\sum _{i=1}^{n} \\dfrac{ {e}^{+ y_i\\tilde{x_i}^{T} \\tilde{w}} } { (1+{e}^{+ y_i\\tilde{x_i}^{T} \\tilde{w}})^2} v^T\\tilde{x_{i}} \\tilde{x_{i}}^T v + \\rho v^T(I_{p+1} - \\left( \\begin{matrix} 1& 0& \\ldots & & 0\\\\ 0& 0& \\ldots & & 0\\\\ & & \\ddots & & \\vdots \\\\ 0& 0& ..& .& 0\\end{matrix} \\right))v $ <br>\n",
    "$v^{T}Hv = \\dfrac {1} {n}\\sum _{i=1}^{n} \\beta_i (\\tilde{x_{i}}^Tv)^2 + \\rho \\sum _{j=1}^{p}v_{j}^{2} > 0$ &nbsp; &nbsp; &nbsp; où &nbsp; $\\beta_i = \\dfrac{ {e}^{+ y_i\\tilde{x_i}^{T} \\tilde{w}} } { (1+{e}^{+ y_i\\tilde{x_i}^{T} \\tilde{w}})^2} > 0$ <br>\n",
    "Donc H est définie positive, \n",
    "\n",
    "d'où <b>$f_1$ </b> est <b>convexe</b>.\n",
    "\n"
   ]
  },
  {
   "cell_type": "code",
   "execution_count": 2,
   "metadata": {
    "collapsed": true
   },
   "outputs": [],
   "source": [
    "# Importing the data\n",
    "filename = 'diabeticRetinopathy.csv'\n",
    "X,y = load_diabetic_retinopathy(filename);\n",
    "# saving the data format\n",
    "n = np.shape(X)[0]\n",
    "p = np.shape(X)[1]\n",
    "# Adding a column of ones to X to simplify calculations \n",
    "X_tilde = np.concatenate( (np.ones((n,1)),X), axis = 1 )"
   ]
  },
  {
   "cell_type": "markdown",
   "metadata": {},
   "source": [
    "## Question 1.2:"
   ]
  },
  {
   "cell_type": "code",
   "execution_count": 3,
   "metadata": {
    "collapsed": true
   },
   "outputs": [],
   "source": [
    "# Calculating value, gradient and hessian of f1\n",
    "\n",
    "# Required parameters that aren't defined inside the function\n",
    "X, X_tilde, y, n, p\n",
    "rho = 1/n\n",
    "\n",
    "def calculatef1(w_0,w):\n",
    "    w_tilde = np.concatenate(([w_0],w), axis=0) #create a vector of w_0 and w \n",
    "    temp = np.exp( -y*X_tilde.dot(w_tilde) ) #frequent expression \n",
    "    \n",
    "    #value of f1\n",
    "    v1 = rho * ((np.linalg.norm(w))**2) / 2\n",
    "    v2 = np.mean( np.log( 1 + temp ) )\n",
    "    f1 = v1 + v2\n",
    "    \n",
    "    #grad of f1\n",
    "    expy = np.exp( y*X_tilde.dot(w_tilde) )\n",
    "    gradf1 = np.zeros((p+1,1))\n",
    "    gradf1[0] = np.mean( -y*temp/(1+temp) )\n",
    "    for j in range(1,p+1):\n",
    "        gradf1[j] = np.mean( -y*X[:,j-1]*temp / (1+temp) ) + rho*w[j-1]\n",
    "    \n",
    "    #Hessian of f1\n",
    "    v = np.exp( y*(X_tilde.dot(w_tilde)))\n",
    "    # We need the reshape cause X_tilde[i,:]'s shape is (20,) multiplying with X_tilde[i,:].T will output a scalar not a matrix as expected\n",
    "    H_ = 1/n * sum( v[i] / ((1+ v[i])**2) * ( np.reshape(X_tilde[i,:],(p+1,1)).dot(np.reshape(X_tilde[i,:],(1,p+1))) ) for i in range(n) )  \n",
    "    A = np.identity(p+1)\n",
    "    A[0,0] = 0\n",
    "    H = H_ + rho * A\n",
    "    \n",
    "    return f1, gradf1, H"
   ]
  },
  {
   "cell_type": "code",
   "execution_count": 4,
   "metadata": {
    "collapsed": true
   },
   "outputs": [],
   "source": [
    "# Checking the function's output\n",
    "#f,gra,H = calculatef1(1,np.ones((19,)))\n",
    "#print ('Calculating f1 for w = \\n %s \\n' % np.ones((p+1,)))\n",
    "#print ('The value of the function f1 is \\n %f \\n' % f)\n",
    "#print ('The calculated gradient is : \\n %s \\n' % gra )\n",
    "#print ('The calculated Hessian is : \\n %s \\n' % H )"
   ]
  },
  {
   "cell_type": "markdown",
   "metadata": {},
   "source": [
    "Verification du gradient par la fonction check_grad"
   ]
  },
  {
   "cell_type": "code",
   "execution_count": 5,
   "metadata": {},
   "outputs": [
    {
     "name": "stdout",
     "output_type": "stream",
     "text": [
      "absolute error is : 3.669272e-08 \n",
      "relative error is : 1.116008e-07 \n"
     ]
    }
   ],
   "source": [
    "# locally needed imports\n",
    "from numpy import ravel\n",
    "from scipy.optimize import check_grad\n",
    "\n",
    "def func_f1(w_tilde):\n",
    "    return calculatef1(w_tilde[0], w_tilde[1:])[0]\n",
    "\n",
    "def func_gradf1(w_tilde):\n",
    "    return calculatef1(w_tilde[0], w_tilde[1:])[1].ravel()\n",
    "\n",
    "w_tilde = np.zeros((p+1,))\n",
    "\n",
    "error = check_grad(func_f1,func_gradf1,w_tilde)\n",
    "print ('absolute error is : %e ' % error)\n",
    "rel_error = error / np.linalg.norm(func_gradf1(w_tilde))\n",
    "print ('relative error is : %e ' % rel_error)"
   ]
  },
  {
   "cell_type": "markdown",
   "metadata": {},
   "source": [
    "La valeur de l'erreur étant non significative, on pourra affirmer que l'implémentation et le calcul du gradient sont corrects."
   ]
  },
  {
   "cell_type": "markdown",
   "metadata": {},
   "source": [
    "## Question 1.3:"
   ]
  },
  {
   "cell_type": "code",
   "execution_count": 6,
   "metadata": {
    "collapsed": true
   },
   "outputs": [],
   "source": [
    "# needed parameters that are not defined inside the function\n",
    "X, X_tilde, y, n, p, rho\n",
    "\n",
    "# simple Newton's method\n",
    "def newton(f,w_tilde0):\n",
    "    t = time()\n",
    "    itera = 0\n",
    "    g_norms = []\n",
    "    w_tilde = w_tilde0\n",
    "    while True:\n",
    "        itera += 1\n",
    "        try :\n",
    "            _,g,h = f( np.reshape(w_tilde[0],()), np.reshape(w_tilde[1:],(p,))) \n",
    "            w_tilde = np.reshape(w_tilde,(20,1)) - np.linalg.inv(h).dot(g)\n",
    "            g_norm = np.linalg.norm(g)\n",
    "            if math.isnan(g_norm): #if the value reached is nan\n",
    "                print('Overflow !')\n",
    "                return None, None\n",
    "        except OverflowError: #if the values overflow\n",
    "            print(\"Overflow !\")\n",
    "            return None, None\n",
    "        g_norms.append(g_norm) #saving the gradient's norms to plot them later\n",
    "        if (g_norm < 10**(-10)):\n",
    "            print(\"Newton's method terminated in %d iterations\" % itera)\n",
    "            print(\"Newton's method terminated in %f ms\" % (1000*(time()-t)) ) \n",
    "            break;\n",
    "    return w_tilde, g_norms"
   ]
  },
  {
   "cell_type": "code",
   "execution_count": 7,
   "metadata": {},
   "outputs": [
    {
     "name": "stdout",
     "output_type": "stream",
     "text": [
      "Newton's method terminated in 9 iterations\n",
      "Newton's method terminated in 116.150379 ms\n"
     ]
    },
    {
     "data": {
      "image/png": "[encoded data removed]",
      "text/plain": [
       "<matplotlib.figure.Figure at 0x7fba9c0b6cc0>"
      ]
     },
     "metadata": {},
     "output_type": "display_data"
    }
   ],
   "source": [
    "w_tilde0 = np.zeros((p+1,))\n",
    "# applying newton's method starting from w_tilde0\n",
    "w_tilde_star, g_norms = newton(calculatef1,w_tilde0)\n",
    "\n",
    "plt.plot(g_norms,'bo-')\n",
    "plt.yscale('log')\n",
    "plt.title(\"Decrease of the norm of the gradient in Newton's method\")\n",
    "plt.xlabel(\"steps\")\n",
    "plt.ylabel(\"norm of the gradient\")\n",
    "plt.show()"
   ]
  },
  {
   "cell_type": "markdown",
   "metadata": {},
   "source": [
    " $\\Rightarrow $ On note que la norme du gradient décroit au fur et à mesure qu'on itère.\n",
    " \n",
    " Pour cette condition initiale $(w_0⁰,w⁰)=0$, l'algorithme de Newton <b>converge</b> vers la solution."
   ]
  },
  {
   "cell_type": "code",
   "execution_count": 8,
   "metadata": {},
   "outputs": [
    {
     "data": {
      "text/plain": [
       "array([[ 0.67731198,  0.28526576, -0.24554742,  5.61365006,  0.9888679 ,\n",
       "        -1.82791918, -2.55695256, -1.58747255,  0.43396361,  0.48515529,\n",
       "        -0.40441764,  0.17280405, -0.57564945,  0.43832626, -0.62435831,\n",
       "         1.25356177,  0.72621094, -0.00607139, -0.1490878 , -0.09505212]])"
      ]
     },
     "execution_count": 8,
     "metadata": {},
     "output_type": "execute_result"
    }
   ],
   "source": [
    "# Retrieved solution for (w0,w)_init = 0\n",
    "np.reshape( w_tilde_star , (1,20) ) #reshaping just for display purpose"
   ]
  },
  {
   "cell_type": "markdown",
   "metadata": {},
   "source": [
    "## Question 1.4:"
   ]
  },
  {
   "cell_type": "code",
   "execution_count": 9,
   "metadata": {},
   "outputs": [
    {
     "name": "stdout",
     "output_type": "stream",
     "text": [
      "Overflow !\n"
     ]
    },
    {
     "name": "stderr",
     "output_type": "stream",
     "text": [
      "/home/jeghampc/Softwares/anaconda2/envs/py36/lib/python3.6/site-packages/ipykernel_launcher.py:26: RuntimeWarning: overflow encountered in double_scalars\n",
      "/home/jeghampc/Softwares/anaconda2/envs/py36/lib/python3.6/site-packages/ipykernel_launcher.py:9: RuntimeWarning: overflow encountered in exp\n",
      "  if __name__ == '__main__':\n",
      "/home/jeghampc/Softwares/anaconda2/envs/py36/lib/python3.6/site-packages/ipykernel_launcher.py:17: RuntimeWarning: overflow encountered in exp\n",
      "/home/jeghampc/Softwares/anaconda2/envs/py36/lib/python3.6/site-packages/ipykernel_launcher.py:19: RuntimeWarning: invalid value encountered in true_divide\n",
      "/home/jeghampc/Softwares/anaconda2/envs/py36/lib/python3.6/site-packages/ipykernel_launcher.py:21: RuntimeWarning: invalid value encountered in true_divide\n",
      "/home/jeghampc/Softwares/anaconda2/envs/py36/lib/python3.6/site-packages/ipykernel_launcher.py:21: RuntimeWarning: overflow encountered in multiply\n",
      "/home/jeghampc/Softwares/anaconda2/envs/py36/lib/python3.6/site-packages/ipykernel_launcher.py:24: RuntimeWarning: overflow encountered in exp\n",
      "/home/jeghampc/Softwares/anaconda2/envs/py36/lib/python3.6/site-packages/ipykernel_launcher.py:26: RuntimeWarning: invalid value encountered in double_scalars\n"
     ]
    }
   ],
   "source": [
    "w_tilde03 = 0.3*np.ones((p+1,))\n",
    "# applying newton's method starting from w_tilde03\n",
    "w_tilde_03, g_norms03 = newton(calculatef1,w_tilde03)"
   ]
  },
  {
   "cell_type": "markdown",
   "metadata": {},
   "source": [
    "$\\Rightarrow $ En changeant le point d'initialisation de <b> w_tilde0 </b> à <b> w_tilde03 </b>, l'algorithme ne converge plus. \n",
    "En effet, le code retourne une exception vu qu'au cours des itérations, le gradient prend de grandes valeurs.\n",
    "L'algorithme de Newton à pas constant ne donne pas une solution que si le point de départ est suffisamment proche de la solution (c'est à dire le point où le min est atteint).\n",
    "\n"
   ]
  },
  {
   "cell_type": "markdown",
   "metadata": {},
   "source": [
    "## Question 1.5:"
   ]
  },
  {
   "cell_type": "markdown",
   "metadata": {},
   "source": [
    "De façon générale,  l'algorithme de Newton dépend du choix de l’initialisation $w_{init}$ et des propriétés de la fonction qui doit être 3-différentiable. \n",
    "\n",
    "Donc une façon pour remédier à ce problème est d'utiliser la recherche linéaire (<b> Armijo's Linear Search Method ) </b> dont le principe est le suivant: \n",
    "\n",
    "Etant donnés $a$ ∈ (0, 1),$b$ > 0 et $β$ ∈ (0, 1), on veut determiner le meilleur entier $l$ vérifiant l'inégalité suivante: \n",
    "\n",
    "$$\\quad f(x^+ (ba^l)) ≤ f(x_{k}) + β <∇f(x_{k}), x^+ ba^l − x_{k}> $$\n",
    "\n",
    "avec: $\\gamma_{k} =  ba^l $\n",
    "\n",
    "et $ \\quad x^+ (\\gamma_{k}) = x^+ (ba^l) = x_{k} - \\gamma_{k} \\nabla f (x_{k})$ \n",
    "\n",
    "ici on prend $f = f_{1} $et $x= $w_tilde , on aura alors: "
   ]
  },
  {
   "cell_type": "markdown",
   "metadata": {},
   "source": [
    "<h4> Remarque : </h4>\n",
    "le choix des paramètres a été effectués en choisissant plusieurs valeurs des paramètres. Finalement, on a choisi $b=1$, $a=0.5$ et $\\beta=0.5$ "
   ]
  },
  {
   "cell_type": "code",
   "execution_count": 10,
   "metadata": {
    "collapsed": true
   },
   "outputs": [],
   "source": [
    "# needed parameters that are not defined inside the function\n",
    "X, X_tilde, y, n, p, rho\n",
    "\n",
    "#Newton's method with linear search\n",
    "def linearNewton(f,w_tilde0,a=0.5,b=1,beta=0.5):\n",
    "    itera = 0\n",
    "    t = time()\n",
    "    g_norms = []\n",
    "    w_tilde = w_tilde0\n",
    "    while True:\n",
    "        itera += 1\n",
    "        print(\",\", end='') #just printing to make sure the algorithm is still running\n",
    "        f_k,g,h = f( np.reshape(w_tilde[0],()), np.reshape(w_tilde[1:],(p,))) \n",
    "        l=0\n",
    "        while True:\n",
    "            print(\".\", end='') #just printing to make sure the algorithm is still running\n",
    "            w_plus = np.reshape(w_tilde,(p+1,1)) - b*(a**l)*np.linalg.inv(h).dot(g)\n",
    "            f_plus = f( np.reshape(w_plus[0],()), np.reshape(w_plus[1:],(p,)))[0]\n",
    "            term_d = f_k + beta * np.reshape( np.transpose(g).dot( np.reshape(w_plus,(20,1))-np.reshape(w_tilde,(20,1)) ) ,())\n",
    "            if f_plus > term_d:\n",
    "                l = l+1\n",
    "            else:\n",
    "                break;\n",
    "        w_tilde = np.reshape(w_tilde,(p+1,1)) - b*(a**l)*np.linalg.inv(h).dot(g)\n",
    "        g_norm = np.linalg.norm(g)\n",
    "        if math.isnan(g_norm):\n",
    "            print()\n",
    "            print('Overflow !')\n",
    "            return None, None\n",
    "        g_norms.append(g_norm)\n",
    "        if (g_norm < 10**(-10)):\n",
    "            print()\n",
    "            print(\"Newton's method with linear search terminated in %d iterations\" % itera)\n",
    "            print(\"Newton's method with linear search terminated in %f ms\" % (1000*(time()-t)))\n",
    "            break;\n",
    "    return w_tilde, g_norms"
   ]
  },
  {
   "cell_type": "code",
   "execution_count": 11,
   "metadata": {},
   "outputs": [
    {
     "name": "stdout",
     "output_type": "stream",
     "text": [
      ",..,.,.,.,.,.,..,..,.,.\n",
      "Newton's method with linear search terminated in 10 iterations\n",
      "Newton's method with linear search terminated in 348.394156 ms\n"
     ]
    }
   ],
   "source": [
    "# Starting from the same previous starting point w_tilde03 but using linear search\n",
    "w_tilde03_star, nor03 = linearNewton(calculatef1,w_tilde03)"
   ]
  },
  {
   "cell_type": "code",
   "execution_count": 12,
   "metadata": {},
   "outputs": [
    {
     "name": "stdout",
     "output_type": "stream",
     "text": [
      "[[ 0.67731198  0.28526576 -0.24554742  5.61365006  0.9888679  -1.82791918\n",
      "  -2.55695256 -1.58747255  0.43396361  0.48515529 -0.40441764  0.17280405\n",
      "  -0.57564945  0.43832626 -0.62435831  1.25356177  0.72621094 -0.00607139\n",
      "  -0.1490878  -0.09505212]]\n"
     ]
    }
   ],
   "source": [
    "# Retrieved solution from w_tilde03 and with newton's method with linear search\n",
    "print( np.reshape(w_tilde03_star, (1,20))) #reshaping just for display purpose"
   ]
  },
  {
   "cell_type": "markdown",
   "metadata": {},
   "source": [
    "# 2- Régularisation par la parcimonie "
   ]
  },
  {
   "cell_type": "markdown",
   "metadata": {},
   "source": [
    "## Question 2.1:"
   ]
  },
  {
   "cell_type": "markdown",
   "metadata": {},
   "source": [
    "On a:  $$F_2 = \\dfrac {1} {n}\\sum _{i=1}^{n}\\log \\left( 1+e^{-y_{i}\\left( {x_{i}}^{T}w+w_{0}\\right) }\\right) + \\rho \\left\\| w\\right\\| _{1}$$ <br>"
   ]
  },
  {
   "cell_type": "markdown",
   "metadata": {},
   "source": [
    "La méthode de Newton suppose que la fonction est 3-différentiable . Or cette condition n'est pas vérifiée dans ce cas. <br> \n",
    "En effet, $w_{1}\\rightarrow \\rho \\left\\| w\\right\\| _{1}$ n'est même pas de classe $C^1$ sur $ \\mathbb{R} ^{p}$ (n'est pas strictement différentiable) \n",
    "\n",
    "donc la méthode de Newton n'est pas applicable dans ce cas."
   ]
  },
  {
   "cell_type": "markdown",
   "metadata": {},
   "source": [
    "## Question 2.2:"
   ]
  },
  {
   "cell_type": "markdown",
   "metadata": {},
   "source": [
    "On a:  $$F_2 = \\dfrac {1} {n}\\sum _{i=1}^{n}\\log \\left( 1+e^{-y_{i}\\left( {x_{i}}^{T}w+w_{0}\\right) }\\right) + \\rho \\left\\| w\\right\\| _{1}$$ <br>\n",
    "* **Décomposition de $F_2$:** \n",
    "\n",
    "on décompse $F_2$ sous la forme $F_2 = f_2 + g_2$ où $$\\boxed{f_2 = \\dfrac {1} {n}\\sum _{i=1}^{n}\\log \\left( 1+e^{-y_{i}\\left( {x_{i}}^{T}w+w_{0}\\right) }\\right)}$$  et $$\\boxed{g_2 = \\rho \\left\\| w\\right\\| _{1}}$$\n",
    "\n",
    "* **Formule de l'opérateur Proximal de $g_2$:** \n",
    "\n",
    "On a: \n",
    "$g(w) = \\rho \\sum _{i=1}^{p}\\left| w_{i}\\right|$\n",
    "\n",
    "la fonction $g_2(w)$ est séparable et son proximal a été calculée dans le cours et dans le TD;\n",
    "\n",
    "$$\n",
    "\\textrm{prox}_{g_{2}}:\\left(\\omega\\right)\\mapsto\\left(\\begin{array}{l}\n",
    "\\textrm{prox}_{g_{21}}\\left(\\omega\\right)\\\\\n",
    "\\textrm{prox}_{g_{22}}\\left(\\omega\\right)\\\\\n",
    "...\\\\\n",
    "\\textrm{prox}_{g_{2n}}\\left(\\omega\\right)\n",
    "\\end{array}\\right) , ~~~~~~~~~~~~avec ~~~~ \\omega=\\left(\\begin{array}{l}\n",
    "\\omega_{1}\\\\\n",
    "...\\\\\n",
    "\\omega_{n}\n",
    "\\end{array}\\right) \n",
    "$$ \n",
    "c'est à dire:\n",
    "$$ p = (prox_{g_2}(w))_i = \\arg\\min_{y \\in \\mathbb{R}}(\\rho \\left|y\\right| + \\frac{(y-x)^2}{2})$$ <br>\n",
    "\n",
    "\n",
    "donc pour tout $ i\\in\\{1,..,n\\}$ :\n",
    "$$   \n",
    "\\textrm{prox}_{g_{2i}}:\\left(\\omega\\right)\\mapsto\\begin{cases}\n",
    "\\omega_{i}-\\rho & \\omega_{i}\\geq\\rho\\\\\n",
    "0 & \\left|\\omega_{i}\\right|<\\rho\\\\\n",
    "\\omega_{i}+\\rho & \\omega_{i}\\leq-\\rho\n",
    "\\end{cases}\n",
    "$$\n",
    "\n",
    "* **Gradient de $f_2$:** \n",
    "\n",
    "Le gradient de $f_2$ se déduit facilement de celui de $f_1$\n",
    "\n",
    "$$ \\fbox{$\\nabla f_{2}= \\begin{pmatrix} \n",
    "\\nabla_{w_{0}}f_{2} \\\\ \n",
    "\\nabla_{w}f_{2} \n",
    " \\end{pmatrix} =  \\begin{pmatrix} \n",
    "\\frac{-1}{n}\\sum_{i=1}^{n}{\\frac{y_{i}}{1+exp(y_{i}(x_{i}^{T}w+w_{0}))}}  \\\\ \n",
    "\\frac{-1}{n}\\sum_{i=1}^{n}{\\frac{y_{i}}{1+exp(y_{i}(x_{i}^{T}w+w_{0}))}x_{i}} \n",
    " \\end{pmatrix} $}\\in \\mathbb{R} ^{\\left( p+1\\right) \\times 1 }$$\n",
    "\n",
    "* **Convexité de $F_2$:** \n",
    "\n",
    "$F_2$ est convexe car $g_2$ et $f_2$ le sont. En effet, la convexité de $f_2$ se démontre de façon similaire à la partie 1 et $g_2$ est une multiplication de la norme-1 par $\\rho$\n"
   ]
  },
  {
   "cell_type": "code",
   "execution_count": 13,
   "metadata": {
    "collapsed": true
   },
   "outputs": [],
   "source": [
    "rho = 0.1"
   ]
  },
  {
   "cell_type": "code",
   "execution_count": 14,
   "metadata": {
    "collapsed": true
   },
   "outputs": [],
   "source": [
    "# needed parameters that are not defined inside the function\n",
    "p, X_tilde, X, y, rho\n",
    "\n",
    "def calculatef2(w_tilde):\n",
    "    if ( len(w_tilde) != p+1 ):\n",
    "        print(\" __ calculatef2 __ Inappropriate w_tilde length\")\n",
    "    w_tilde = np.reshape(w_tilde, (p+1,1))\n",
    "    temp = np.exp( -y*X_tilde.dot(w_tilde) ) #frequent expression \n",
    "    \n",
    "    #value of f2\n",
    "    f2 = np.mean( np.log( 1 + temp ) )\n",
    "    \n",
    "    #grad of f2\n",
    "    expy = np.exp( y*X_tilde.dot(w_tilde) )\n",
    "    gradf2 = np.zeros((p+1,1))\n",
    "    gradf2[0] = np.mean( -y*temp/(1+temp) )\n",
    "    for j in range(1,p+1):\n",
    "        gradf2[j] = np.mean( -y*X[:,j-1]*temp / (1+temp) )\n",
    "    \n",
    "    return f2, gradf2"
   ]
  },
  {
   "cell_type": "code",
   "execution_count": 15,
   "metadata": {
    "collapsed": true
   },
   "outputs": [],
   "source": [
    "def calculateg2(w_tilde,rho=0.1):\n",
    "    if (len(w_tilde) != p+1 ):\n",
    "        print(\"__ calculateg2 __ Inappropriate w_tilde length \")\n",
    "    return rho*np.sum(np.abs( w_tilde[1:] ))"
   ]
  },
  {
   "cell_type": "code",
   "execution_count": 16,
   "metadata": {
    "collapsed": true
   },
   "outputs": [],
   "source": [
    "# Proximal operator for g_2\n",
    "# w_tilde must be a np.array\n",
    "def prox_g2(w_tilde,alpha=1,rho = 0.1):\n",
    "    if ( type(w_tilde).__module__ != np.__name__ ):\n",
    "        print(\"__ prox_g2 __ Input parameter must be a numpy.array !\")\n",
    "        w_tilde = np.reshape(w_tilde, (len(w_tilde),1) )\n",
    "    if (len(w_tilde) != p+1 ):\n",
    "        print(\"__ prox_g2 __ Inappropriate w_tilde length \")\n",
    "    def compare(w):\n",
    "        if w > rho*alpha:\n",
    "            return w-rho*alpha\n",
    "        if w < -rho*alpha:\n",
    "            return w+rho*alpha\n",
    "        return 0\n",
    "    pro = np.reshape( list(map(compare, w_tilde)) , np.shape(w_tilde) )\n",
    "    print(np.shape(pro))\n",
    "    pro[0] = 0\n",
    "    return  pro"
   ]
  },
  {
   "cell_type": "markdown",
   "metadata": {},
   "source": [
    "## Question 2.3:"
   ]
  },
  {
   "cell_type": "markdown",
   "metadata": {},
   "source": [
    "On test plusieurs test d'arrêt. mais celui qui sera effectivement utilisé est le test sur la variation de la solution retrouvés c'est à dire qu'entre deux itérations $w_{k+1}$ ne varie pas trop par rapport à $w_{k}$"
   ]
  },
  {
   "cell_type": "code",
   "execution_count": 17,
   "metadata": {
    "collapsed": true
   },
   "outputs": [],
   "source": [
    "rho = 0.1\n",
    "rho, p\n",
    "\n",
    "def ProximalGradient_LinearSearch( w_tilde , f2, g2, prox_g2, a=0.5, b=1, beta=0.5, rho = 0.1):\n",
    "    t = time()\n",
    "    gradf2_norms = []\n",
    "    w_tilde = np.reshape( w_tilde0, (p+1,1) )\n",
    "    \n",
    "    itera = 0\n",
    "    while True:\n",
    "        #for termination conditions\n",
    "        itera = itera +1 \n",
    "        wk = w_tilde \n",
    "        \n",
    "        f2_k,grad_f2 = f2( w_tilde ) \n",
    "        if np.shape(grad_f2) != (20, 1):\n",
    "            print(\"__ ProximalGradient_LinearSearch __ Error in shape of gradf2 !\")\n",
    "        \n",
    "        # line search for f2 to find gamma\n",
    "        l=0\n",
    "        while l<40:\n",
    "            if np.shape(w_tilde) != (20, 1):\n",
    "                print(\"__ ProximalGradient_LinearSearch __ Error in shape of w_tilde !\")\n",
    "            w_plus = w_tilde - b*(a**l) * grad_f2\n",
    "            if np.shape(w_plus) != (20, 1):\n",
    "                print(\"__ ProximalGradient_LinearSearch __ Error in shape of w_plus !\")\n",
    "            term_d = f2_k + beta * np.transpose(grad_f2).dot( w_plus - w_tilde )\n",
    "            if f2(w_plus)[0] > term_d:\n",
    "                l = l+1\n",
    "            else:\n",
    "                break;\n",
    "        \n",
    "        # Proximal gradient on g2\n",
    "        w_tilde = prox_g2(w_plus, alpha=b*(a**l), rho=rho)\n",
    "        \n",
    "        gradf2_norm = np.linalg.norm(f2( w_tilde )[1])\n",
    "        if np.shape(w_tilde) != (20, 1):\n",
    "                print(\"__ ProximalGradient_LinearSearch __ Error in shape of w_k+1 !\")\n",
    "        if math.isnan(gradf2_norm):\n",
    "            print('Overflow !')\n",
    "            return None, None\n",
    "        gradf2_norms.append(gradf2_norm)\n",
    "        print(\"current objective value: \")\n",
    "        print(f2(w_tilde)[0] + g2(w_tilde,rho))\n",
    "        print(\"norm of current gradient: \")\n",
    "        print(gradf2_norm)\n",
    "        \n",
    "        # Termination conditions\n",
    "        if (gradf2_norm < 10**(-10)):\n",
    "            print('__ Terminated __ Gradient Condition, after %d iteration' % itera)\n",
    "            print(\"Proximal gradient with linear search terminated in %f ms\" % (1000*(time()-t)))\n",
    "            break;\n",
    "        if (np.allclose(wk, w_tilde)):\n",
    "            print('__ Terminated __ w Condition, after %d iteration' % itera)\n",
    "            print(\"Proximal gradient with linear search terminated in %f ms\" % (1000*(time()-t)))\n",
    "            break;\n",
    "    return w_tilde, gradf2_norms"
   ]
  },
  {
   "cell_type": "code",
   "execution_count": 18,
   "metadata": {},
   "outputs": [
    {
     "name": "stdout",
     "output_type": "stream",
     "text": [
      "(20, 1)\n",
      "current objective value: \n",
      "0.69314718056\n",
      "norm of current gradient: \n",
      "0.328785478355\n",
      "__ Terminated __ w Condition, after 1 iteration\n",
      "Proximal gradient with linear search terminated in 10598.962307 ms\n"
     ]
    }
   ],
   "source": [
    "w_star_prox,_ = ProximalGradient_LinearSearch(w_tilde03, calculatef2, calculateg2, prox_g2, beta=0.5, b=1)"
   ]
  },
  {
   "cell_type": "markdown",
   "metadata": {},
   "source": [
    "# 3- Comparaison"
   ]
  },
  {
   "cell_type": "markdown",
   "metadata": {},
   "source": [
    "## Question 3.1:"
   ]
  },
  {
   "cell_type": "markdown",
   "metadata": {},
   "source": [
    "Le premier problème est un problème d'optimisation convexe avec des fonctions trois différentiables ce qui nous a offert l'opportunité d'utiliser la méthode de newton.\n",
    "\n",
    "Par contre, le second problème est convexe mais non 3-différentiable. Pour cela on a utilisé le gradient proxial étant donnée une fonction dont le proximal a été vu en cours et est simple à calculer."
   ]
  },
  {
   "cell_type": "markdown",
   "metadata": {},
   "source": [
    "## Question 3.2:"
   ]
  },
  {
   "cell_type": "markdown",
   "metadata": {},
   "source": [
    "Les deux régularisations donnent des solutions proches mais la rapidité de la méthode de newton est nettement meilleure bien que le nombre d'itérations soit grand l'algorithme converge rapidement (temporellement)."
   ]
  }
 ],
 "metadata": {
  "kernelspec": {
   "display_name": "Python 3",
   "language": "python",
   "name": "python3"
  },
  "language_info": {
   "codemirror_mode": {
    "name": "ipython",
    "version": 3
   },
   "file_extension": ".py",
   "mimetype": "text/x-python",
   "name": "python",
   "nbconvert_exporter": "python",
   "pygments_lexer": "ipython3",
   "version": "3.6.3"
  }
 },
 "nbformat": 4,
 "nbformat_minor": 2
}
